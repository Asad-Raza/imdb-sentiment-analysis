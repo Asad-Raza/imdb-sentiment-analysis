{
 "cells": [
  {
   "cell_type": "markdown",
   "metadata": {},
   "source": [
    "# Convolutional Neural Network"
   ]
  },
  {
   "cell_type": "markdown",
   "metadata": {},
   "source": [
    "## Import Dependencies"
   ]
  },
  {
   "cell_type": "code",
   "execution_count": 2,
   "metadata": {},
   "outputs": [
    {
     "name": "stderr",
     "output_type": "stream",
     "text": [
      "Using TensorFlow backend.\n"
     ]
    }
   ],
   "source": [
    "%matplotlib inline\n",
    "from imp import reload\n",
    "\n",
    "import itertools\n",
    "import numpy as np\n",
    "import utils; reload(utils)\n",
    "\n",
    "from utils import *\n",
    "from __future__ import print_function\n",
    "from sklearn.metrics import confusion_matrix, classification_report, f1_score"
   ]
  },
  {
   "cell_type": "code",
   "execution_count": 3,
   "metadata": {
    "collapsed": true
   },
   "outputs": [],
   "source": [
    "from keras.preprocessing import sequence\n",
    "from keras.models import Sequential\n",
    "from keras.layers import Dense, Dropout, Activation\n",
    "from keras.layers import Embedding, SpatialDropout1D\n",
    "from keras.layers import LSTM\n",
    "from keras.layers import Conv1D, GlobalMaxPooling1D\n",
    "from keras.layers import Flatten\n",
    "from keras.datasets import imdb\n",
    "from keras.utils import plot_model\n",
    "from keras.utils.vis_utils import model_to_dot\n",
    "\n",
    "from IPython.display import SVG\n",
    "from IPython.display import Image"
   ]
  },
  {
   "cell_type": "markdown",
   "metadata": {},
   "source": [
    "## Configure Parameters"
   ]
  },
  {
   "cell_type": "code",
   "execution_count": 4,
   "metadata": {
    "collapsed": true
   },
   "outputs": [],
   "source": [
    "# Embedding\n",
    "embedding_size = 50\n",
    "max_features = 5000\n",
    "maxlen = 400\n",
    "\n",
    "# Convolution\n",
    "kernel_size = 3\n",
    "pool_size = 4\n",
    "filters = 250\n",
    "\n",
    "# Dense\n",
    "hidden_dims = 250\n",
    "\n",
    "# Training\n",
    "batch_size = 64\n",
    "epochs = 4"
   ]
  },
  {
   "cell_type": "markdown",
   "metadata": {},
   "source": [
    "## Data Preparation"
   ]
  },
  {
   "cell_type": "code",
   "execution_count": 5,
   "metadata": {
    "collapsed": true
   },
   "outputs": [],
   "source": [
    "(x_train, y_train), (x_test, y_test) = imdb.load_data(num_words=max_features)"
   ]
  },
  {
   "cell_type": "code",
   "execution_count": 6,
   "metadata": {},
   "outputs": [
    {
     "name": "stdout",
     "output_type": "stream",
     "text": [
      "Train data size: (25000, 400)\n",
      "Test data size: (25000, 400)\n"
     ]
    }
   ],
   "source": [
    "# Pad sequences\n",
    "x_train = sequence.pad_sequences(x_train, maxlen=maxlen)\n",
    "x_test = sequence.pad_sequences(x_test, maxlen=maxlen)\n",
    "\n",
    "print('Train data size:', x_train.shape)\n",
    "print('Test data size:', x_test.shape)"
   ]
  },
  {
   "cell_type": "markdown",
   "metadata": {},
   "source": [
    "## Modelling"
   ]
  },
  {
   "cell_type": "code",
   "execution_count": 7,
   "metadata": {},
   "outputs": [
    {
     "name": "stdout",
     "output_type": "stream",
     "text": [
      "_________________________________________________________________\n",
      "Layer (type)                 Output Shape              Param #   \n",
      "=================================================================\n",
      "embedding_1 (Embedding)      (None, 400, 50)           250000    \n",
      "_________________________________________________________________\n",
      "dropout_1 (Dropout)          (None, 400, 50)           0         \n",
      "_________________________________________________________________\n",
      "conv1d_1 (Conv1D)            (None, 398, 250)          37750     \n",
      "_________________________________________________________________\n",
      "global_max_pooling1d_1 (Glob (None, 250)               0         \n",
      "_________________________________________________________________\n",
      "dense_1 (Dense)              (None, 250)               62750     \n",
      "_________________________________________________________________\n",
      "dropout_2 (Dropout)          (None, 250)               0         \n",
      "_________________________________________________________________\n",
      "activation_1 (Activation)    (None, 250)               0         \n",
      "_________________________________________________________________\n",
      "dense_2 (Dense)              (None, 1)                 251       \n",
      "_________________________________________________________________\n",
      "activation_2 (Activation)    (None, 1)                 0         \n",
      "=================================================================\n",
      "Total params: 350,751\n",
      "Trainable params: 350,751\n",
      "Non-trainable params: 0\n",
      "_________________________________________________________________\n"
     ]
    },
    {
     "data": {
      "image/svg+xml": [
       "<svg height=\"702pt\" viewBox=\"0.00 0.00 292.00 702.00\" width=\"292pt\" xmlns=\"http://www.w3.org/2000/svg\" xmlns:xlink=\"http://www.w3.org/1999/xlink\">\n",
       "<g class=\"graph\" id=\"graph0\" transform=\"scale(1 1) rotate(0) translate(4 698)\">\n",
       "<title>G</title>\n",
       "<polygon fill=\"white\" points=\"-4,4 -4,-698 288,-698 288,4 -4,4\" stroke=\"none\"/>\n",
       "<!-- 139737798616512 -->\n",
       "<g class=\"node\" id=\"node1\"><title>139737798616512</title>\n",
       "<polygon fill=\"none\" points=\"45.5,-657.5 45.5,-693.5 238.5,-693.5 238.5,-657.5 45.5,-657.5\" stroke=\"black\"/>\n",
       "<text font-family=\"Times,serif\" font-size=\"14.00\" text-anchor=\"middle\" x=\"142\" y=\"-671.8\">embedding_1_input: InputLayer</text>\n",
       "</g>\n",
       "<!-- 139737798616120 -->\n",
       "<g class=\"node\" id=\"node2\"><title>139737798616120</title>\n",
       "<polygon fill=\"none\" points=\"61.5,-584.5 61.5,-620.5 222.5,-620.5 222.5,-584.5 61.5,-584.5\" stroke=\"black\"/>\n",
       "<text font-family=\"Times,serif\" font-size=\"14.00\" text-anchor=\"middle\" x=\"142\" y=\"-598.8\">embedding_1: Embedding</text>\n",
       "</g>\n",
       "<!-- 139737798616512&#45;&gt;139737798616120 -->\n",
       "<g class=\"edge\" id=\"edge1\"><title>139737798616512-&gt;139737798616120</title>\n",
       "<path d=\"M142,-657.313C142,-649.289 142,-639.547 142,-630.569\" fill=\"none\" stroke=\"black\"/>\n",
       "<polygon fill=\"black\" points=\"145.5,-630.529 142,-620.529 138.5,-630.529 145.5,-630.529\" stroke=\"black\"/>\n",
       "</g>\n",
       "<!-- 139737798616232 -->\n",
       "<g class=\"node\" id=\"node3\"><title>139737798616232</title>\n",
       "<polygon fill=\"none\" points=\"79.5,-511.5 79.5,-547.5 204.5,-547.5 204.5,-511.5 79.5,-511.5\" stroke=\"black\"/>\n",
       "<text font-family=\"Times,serif\" font-size=\"14.00\" text-anchor=\"middle\" x=\"142\" y=\"-525.8\">dropout_1: Dropout</text>\n",
       "</g>\n",
       "<!-- 139737798616120&#45;&gt;139737798616232 -->\n",
       "<g class=\"edge\" id=\"edge2\"><title>139737798616120-&gt;139737798616232</title>\n",
       "<path d=\"M142,-584.313C142,-576.289 142,-566.547 142,-557.569\" fill=\"none\" stroke=\"black\"/>\n",
       "<polygon fill=\"black\" points=\"145.5,-557.529 142,-547.529 138.5,-557.529 145.5,-557.529\" stroke=\"black\"/>\n",
       "</g>\n",
       "<!-- 139737798616400 -->\n",
       "<g class=\"node\" id=\"node4\"><title>139737798616400</title>\n",
       "<polygon fill=\"none\" points=\"80.5,-438.5 80.5,-474.5 203.5,-474.5 203.5,-438.5 80.5,-438.5\" stroke=\"black\"/>\n",
       "<text font-family=\"Times,serif\" font-size=\"14.00\" text-anchor=\"middle\" x=\"142\" y=\"-452.8\">conv1d_1: Conv1D</text>\n",
       "</g>\n",
       "<!-- 139737798616232&#45;&gt;139737798616400 -->\n",
       "<g class=\"edge\" id=\"edge3\"><title>139737798616232-&gt;139737798616400</title>\n",
       "<path d=\"M142,-511.313C142,-503.289 142,-493.547 142,-484.569\" fill=\"none\" stroke=\"black\"/>\n",
       "<polygon fill=\"black\" points=\"145.5,-484.529 142,-474.529 138.5,-484.529 145.5,-484.529\" stroke=\"black\"/>\n",
       "</g>\n",
       "<!-- 139737798616624 -->\n",
       "<g class=\"node\" id=\"node5\"><title>139737798616624</title>\n",
       "<polygon fill=\"none\" points=\"0,-365.5 0,-401.5 284,-401.5 284,-365.5 0,-365.5\" stroke=\"black\"/>\n",
       "<text font-family=\"Times,serif\" font-size=\"14.00\" text-anchor=\"middle\" x=\"142\" y=\"-379.8\">global_max_pooling1d_1: GlobalMaxPooling1D</text>\n",
       "</g>\n",
       "<!-- 139737798616400&#45;&gt;139737798616624 -->\n",
       "<g class=\"edge\" id=\"edge4\"><title>139737798616400-&gt;139737798616624</title>\n",
       "<path d=\"M142,-438.313C142,-430.289 142,-420.547 142,-411.569\" fill=\"none\" stroke=\"black\"/>\n",
       "<polygon fill=\"black\" points=\"145.5,-411.529 142,-401.529 138.5,-411.529 145.5,-411.529\" stroke=\"black\"/>\n",
       "</g>\n",
       "<!-- 139737505199832 -->\n",
       "<g class=\"node\" id=\"node6\"><title>139737505199832</title>\n",
       "<polygon fill=\"none\" points=\"91,-292.5 91,-328.5 193,-328.5 193,-292.5 91,-292.5\" stroke=\"black\"/>\n",
       "<text font-family=\"Times,serif\" font-size=\"14.00\" text-anchor=\"middle\" x=\"142\" y=\"-306.8\">dense_1: Dense</text>\n",
       "</g>\n",
       "<!-- 139737798616624&#45;&gt;139737505199832 -->\n",
       "<g class=\"edge\" id=\"edge5\"><title>139737798616624-&gt;139737505199832</title>\n",
       "<path d=\"M142,-365.313C142,-357.289 142,-347.547 142,-338.569\" fill=\"none\" stroke=\"black\"/>\n",
       "<polygon fill=\"black\" points=\"145.5,-338.529 142,-328.529 138.5,-338.529 145.5,-338.529\" stroke=\"black\"/>\n",
       "</g>\n",
       "<!-- 139737505117464 -->\n",
       "<g class=\"node\" id=\"node7\"><title>139737505117464</title>\n",
       "<polygon fill=\"none\" points=\"79.5,-219.5 79.5,-255.5 204.5,-255.5 204.5,-219.5 79.5,-219.5\" stroke=\"black\"/>\n",
       "<text font-family=\"Times,serif\" font-size=\"14.00\" text-anchor=\"middle\" x=\"142\" y=\"-233.8\">dropout_2: Dropout</text>\n",
       "</g>\n",
       "<!-- 139737505199832&#45;&gt;139737505117464 -->\n",
       "<g class=\"edge\" id=\"edge6\"><title>139737505199832-&gt;139737505117464</title>\n",
       "<path d=\"M142,-292.313C142,-284.289 142,-274.547 142,-265.569\" fill=\"none\" stroke=\"black\"/>\n",
       "<polygon fill=\"black\" points=\"145.5,-265.529 142,-255.529 138.5,-265.529 145.5,-265.529\" stroke=\"black\"/>\n",
       "</g>\n",
       "<!-- 139737505444864 -->\n",
       "<g class=\"node\" id=\"node8\"><title>139737505444864</title>\n",
       "<polygon fill=\"none\" points=\"68,-146.5 68,-182.5 216,-182.5 216,-146.5 68,-146.5\" stroke=\"black\"/>\n",
       "<text font-family=\"Times,serif\" font-size=\"14.00\" text-anchor=\"middle\" x=\"142\" y=\"-160.8\">activation_1: Activation</text>\n",
       "</g>\n",
       "<!-- 139737505117464&#45;&gt;139737505444864 -->\n",
       "<g class=\"edge\" id=\"edge7\"><title>139737505117464-&gt;139737505444864</title>\n",
       "<path d=\"M142,-219.313C142,-211.289 142,-201.547 142,-192.569\" fill=\"none\" stroke=\"black\"/>\n",
       "<polygon fill=\"black\" points=\"145.5,-192.529 142,-182.529 138.5,-192.529 145.5,-192.529\" stroke=\"black\"/>\n",
       "</g>\n",
       "<!-- 139737505116680 -->\n",
       "<g class=\"node\" id=\"node9\"><title>139737505116680</title>\n",
       "<polygon fill=\"none\" points=\"91,-73.5 91,-109.5 193,-109.5 193,-73.5 91,-73.5\" stroke=\"black\"/>\n",
       "<text font-family=\"Times,serif\" font-size=\"14.00\" text-anchor=\"middle\" x=\"142\" y=\"-87.8\">dense_2: Dense</text>\n",
       "</g>\n",
       "<!-- 139737505444864&#45;&gt;139737505116680 -->\n",
       "<g class=\"edge\" id=\"edge8\"><title>139737505444864-&gt;139737505116680</title>\n",
       "<path d=\"M142,-146.313C142,-138.289 142,-128.547 142,-119.569\" fill=\"none\" stroke=\"black\"/>\n",
       "<polygon fill=\"black\" points=\"145.5,-119.529 142,-109.529 138.5,-119.529 145.5,-119.529\" stroke=\"black\"/>\n",
       "</g>\n",
       "<!-- 139737505446656 -->\n",
       "<g class=\"node\" id=\"node10\"><title>139737505446656</title>\n",
       "<polygon fill=\"none\" points=\"68,-0.5 68,-36.5 216,-36.5 216,-0.5 68,-0.5\" stroke=\"black\"/>\n",
       "<text font-family=\"Times,serif\" font-size=\"14.00\" text-anchor=\"middle\" x=\"142\" y=\"-14.8\">activation_2: Activation</text>\n",
       "</g>\n",
       "<!-- 139737505116680&#45;&gt;139737505446656 -->\n",
       "<g class=\"edge\" id=\"edge9\"><title>139737505116680-&gt;139737505446656</title>\n",
       "<path d=\"M142,-73.3129C142,-65.2895 142,-55.5475 142,-46.5691\" fill=\"none\" stroke=\"black\"/>\n",
       "<polygon fill=\"black\" points=\"145.5,-46.5288 142,-36.5288 138.5,-46.5289 145.5,-46.5288\" stroke=\"black\"/>\n",
       "</g>\n",
       "</g>\n",
       "</svg>"
      ],
      "text/plain": [
       "<IPython.core.display.SVG object>"
      ]
     },
     "execution_count": 7,
     "metadata": {},
     "output_type": "execute_result"
    }
   ],
   "source": [
    "model = Sequential()\n",
    "\n",
    "# we start off with an efficient embedding layer which maps\n",
    "# our vocab indices into embedding_dims dimensions\n",
    "model.add(Embedding(max_features, \n",
    "                    embedding_size, \n",
    "                    input_length=maxlen))\n",
    "model.add(Dropout(0.2))\n",
    "\n",
    "\n",
    "model.add(Conv1D(filters,\n",
    "                kernel_size,\n",
    "                padding='valid',\n",
    "                activation='relu',\n",
    "                strides=1))\n",
    "model.add(GlobalMaxPooling1D())\n",
    "\n",
    "# We add a vanilla hidden layer:\n",
    "model.add(Dense(hidden_dims))\n",
    "model.add(Dropout(0.2))\n",
    "model.add(Activation('relu'))\n",
    "\n",
    "# We project onto a single unit output layer, and squash it with a sigmoid:\n",
    "model.add(Dense(1))\n",
    "model.add(Activation('sigmoid'))\n",
    "\n",
    "model.compile(loss='binary_crossentropy',\n",
    "              optimizer='adam',\n",
    "              metrics=['accuracy'])\n",
    "\n",
    "model.summary()\n",
    "\n",
    "# plot_model(model, to_file='model.png', show_shapes=True)\n",
    "# Image(filename = 'model.png')\n",
    "SVG(model_to_dot(model).create(prog='dot', format='svg'))"
   ]
  },
  {
   "cell_type": "markdown",
   "metadata": {},
   "source": [
    "## Evaluation"
   ]
  },
  {
   "cell_type": "code",
   "execution_count": 8,
   "metadata": {},
   "outputs": [
    {
     "name": "stdout",
     "output_type": "stream",
     "text": [
      "Train on 25000 samples, validate on 25000 samples\n",
      "Epoch 1/4\n",
      "25000/25000 [==============================] - 15s - loss: 0.4471 - acc: 0.7692 - val_loss: 0.2830 - val_acc: 0.8817\n",
      "Epoch 2/4\n",
      "25000/25000 [==============================] - 13s - loss: 0.2437 - acc: 0.9019 - val_loss: 0.2689 - val_acc: 0.8864\n",
      "Epoch 3/4\n",
      "25000/25000 [==============================] - 15s - loss: 0.1706 - acc: 0.9358 - val_loss: 0.2579 - val_acc: 0.8949\n",
      "Epoch 4/4\n",
      "25000/25000 [==============================] - 15s - loss: 0.1187 - acc: 0.9570 - val_loss: 0.2967 - val_acc: 0.8890\n"
     ]
    },
    {
     "data": {
      "text/plain": [
       "<keras.callbacks.History at 0x7f173b44dd68>"
      ]
     },
     "execution_count": 8,
     "metadata": {},
     "output_type": "execute_result"
    }
   ],
   "source": [
    "# Train the model\n",
    "model.fit(x_train, y_train,\n",
    "         batch_size=batch_size,\n",
    "         epochs=epochs,\n",
    "         validation_data=(x_test, y_test),\n",
    "         verbose=1)"
   ]
  },
  {
   "cell_type": "code",
   "execution_count": 9,
   "metadata": {},
   "outputs": [
    {
     "name": "stdout",
     "output_type": "stream",
     "text": [
      "25000/25000 [==============================] - 2s     \n"
     ]
    }
   ],
   "source": [
    "# Evaluate model\n",
    "score, acc = model.evaluate(x_test, y_test, batch_size=batch_size)\n",
    "preds = model.predict_classes(x_test, batch_size=batch_size)"
   ]
  },
  {
   "cell_type": "code",
   "execution_count": 10,
   "metadata": {
    "collapsed": true
   },
   "outputs": [],
   "source": [
    "# Save the model weights\n",
    "model_path = 'data/imdb/models/'\n",
    "model.save_weights(model_path + 'cnn.model')"
   ]
  },
  {
   "cell_type": "code",
   "execution_count": 11,
   "metadata": {},
   "outputs": [
    {
     "name": "stdout",
     "output_type": "stream",
     "text": [
      "[[11441  1059]\n",
      " [ 1715 10785]]\n"
     ]
    },
    {
     "data": {
      "image/png": "[encoded data removed]",
      "text/plain": [
       "<matplotlib.figure.Figure at 0x7f173dd58fd0>"
      ]
     },
     "metadata": {},
     "output_type": "display_data"
    }
   ],
   "source": [
    "# Confusion Matrix\n",
    "cm = confusion_matrix(y_test, preds)\n",
    "plot_confusion_matrix(cm, {'negative': 0, 'positive': 1})"
   ]
  },
  {
   "cell_type": "code",
   "execution_count": 12,
   "metadata": {},
   "outputs": [
    {
     "name": "stdout",
     "output_type": "stream",
     "text": [
      "Test accuracy: 0.889040000038\n",
      "Test score (loss): 0.296706462803\n",
      "\n",
      "F1 Score (Macro): 0.888963547227\n",
      "F1 Score (Micro): 0.88904\n"
     ]
    }
   ],
   "source": [
    "# F1 score\n",
    "f1_macro = f1_score(y_test, preds, average='macro') \n",
    "f1_micro = f1_score(y_test, preds, average='micro')\n",
    "\n",
    "print('Test accuracy:', acc)\n",
    "print('Test score (loss):', score)\n",
    "print('')\n",
    "print('F1 Score (Macro):', f1_macro)\n",
    "print('F1 Score (Micro):', f1_micro)"
   ]
  },
  {
   "cell_type": "code",
   "execution_count": null,
   "metadata": {
    "collapsed": true
   },
   "outputs": [],
   "source": []
  }
 ],
 "metadata": {
  "kernelspec": {
   "display_name": "Python 3",
   "language": "python",
   "name": "python3"
  },
  "language_info": {
   "codemirror_mode": {
    "name": "ipython",
    "version": 3
   },
   "file_extension": ".py",
   "mimetype": "text/x-python",
   "name": "python",
   "nbconvert_exporter": "python",
   "pygments_lexer": "ipython3",
   "version": "3.5.2"
  }
 },
 "nbformat": 4,
 "nbformat_minor": 2
}
